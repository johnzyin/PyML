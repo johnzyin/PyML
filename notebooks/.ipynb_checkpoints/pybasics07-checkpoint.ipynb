{
 "cells": [
  {
   "cell_type": "markdown",
   "metadata": {},
   "source": [
    "# Learning Python Basics using Jupyter Notebook\n",
    "\n",
    "## 7. Advanced"
   ]
  },
  {
   "cell_type": "code",
   "execution_count": 1,
   "metadata": {},
   "outputs": [
    {
     "name": "stdout",
     "output_type": "stream",
     "text": [
      "2\n",
      "4\n",
      "6\n",
      "8\n",
      "10\n",
      "12\n",
      "14\n",
      "16\n",
      "18\n",
      "20\n",
      "22\n",
      "24\n",
      "26\n",
      "28\n",
      "30\n"
     ]
    }
   ],
   "source": [
    "# Generators help you make lazy code.\n",
    "def double_numbers(iterable):\n",
    "    for i in iterable:\n",
    "        yield i + i\n",
    "\n",
    "# Generators are memory-efficient because they only load the data needed to\n",
    "# process the next value in the iterable. This allows them to perform\n",
    "# operations on otherwise prohibitively large value ranges.\n",
    "# NOTE: `range` replaces `xrange` in Python 3.\n",
    "for i in double_numbers(range(1, 900000000)):  # `range` is a generator.\n",
    "    print(i)\n",
    "    if i >= 30:\n",
    "        break\n"
   ]
  },
  {
   "cell_type": "code",
   "execution_count": 2,
   "metadata": {},
   "outputs": [
    {
     "name": "stdout",
     "output_type": "stream",
     "text": [
      "-1\n",
      "-2\n",
      "-3\n",
      "-4\n",
      "-5\n"
     ]
    }
   ],
   "source": [
    "# Just as you can create a list comprehension, you can create generator\n",
    "# comprehensions as well.\n",
    "values = (-x for x in [1,2,3,4,5])\n",
    "for x in values:\n",
    "    print(x)"
   ]
  },
  {
   "cell_type": "code",
   "execution_count": 3,
   "metadata": {},
   "outputs": [
    {
     "name": "stdout",
     "output_type": "stream",
     "text": [
      "[-1, -2, -3, -4, -5]\n"
     ]
    }
   ],
   "source": [
    "# You can also cast a generator comprehension directly to a list.\n",
    "values = (-x for x in [1,2,3,4,5])\n",
    "gen_to_list = list(values)\n",
    "print(gen_to_list)"
   ]
  },
  {
   "cell_type": "code",
   "execution_count": 8,
   "metadata": {},
   "outputs": [],
   "source": [
    "# Decorators\n",
    "# In this example `beg` wraps `say`. If say_please is True then it\n",
    "# will change the returned message.\n",
    "from functools import wraps\n",
    "\n",
    "def beg(target_function):\n",
    "    @wraps(target_function)\n",
    "    def wrapper(*args, **kwargs):\n",
    "        msg, say_please = target_function(*args, **kwargs)\n",
    "        if say_please:\n",
    "            return \"{} {}\".format(msg, \"Please! I am poor :(\")\n",
    "        else:\n",
    "            return msg\n",
    "\n",
    "    return wrapper"
   ]
  },
  {
   "cell_type": "code",
   "execution_count": 9,
   "metadata": {},
   "outputs": [],
   "source": [
    "@beg\n",
    "def say(say_please=False):\n",
    "    msg = \"Can you buy me a beer?\"\n",
    "    return msg, say_please"
   ]
  },
  {
   "cell_type": "code",
   "execution_count": 10,
   "metadata": {},
   "outputs": [
    {
     "name": "stdout",
     "output_type": "stream",
     "text": [
      "Can you buy me a beer?\n"
     ]
    }
   ],
   "source": [
    "print(say())                "
   ]
  },
  {
   "cell_type": "code",
   "execution_count": 11,
   "metadata": {},
   "outputs": [
    {
     "name": "stdout",
     "output_type": "stream",
     "text": [
      "Can you buy me a beer? Please! I am poor :(\n"
     ]
    }
   ],
   "source": [
    "print(say(say_please=True))"
   ]
  }
 ],
 "metadata": {
  "kernelspec": {
   "display_name": "Python 3",
   "language": "python",
   "name": "python3"
  },
  "language_info": {
   "codemirror_mode": {
    "name": "ipython",
    "version": 3
   },
   "file_extension": ".py",
   "mimetype": "text/x-python",
   "name": "python",
   "nbconvert_exporter": "python",
   "pygments_lexer": "ipython3",
   "version": "3.7.1"
  }
 },
 "nbformat": 4,
 "nbformat_minor": 2
}
